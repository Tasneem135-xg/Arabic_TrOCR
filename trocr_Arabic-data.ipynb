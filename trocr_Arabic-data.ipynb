{
  "nbformat": 4,
  "nbformat_minor": 0,
  "metadata": {
    "colab": {
      "provenance": []
    },
    "kernelspec": {
      "name": "python3",
      "display_name": "Python 3"
    },
    "language_info": {
      "name": "python"
    },
    "accelerator": "TPU"
  },
  "cells": [
    {
      "cell_type": "markdown",
      "source": [
        "Credits goes to\n",
        "https://github.com/NielsRogge/Transformers-Tutorials/tree/master/TrOCR<br>\n",
        "https://arxiv.org/abs/2109.10282\n",
        "TrOCR: Transformer-based Optical Character Recognition with Pre-trained Models\n",
        "<br>\n",
        "https://huggingface.co/aubmindlab/bert-base-arabert\n",
        "\n",
        "<br>\n",
        "https://huggingface.co/xlm-roberta-base\n"
      ],
      "metadata": {
        "id": "qRFz5Pbgz6eu"
      }
    },
    {
      "cell_type": "code",
      "source": [
        "!pip install transformers\n",
        "!pip install datasets\n",
        "!pip install torchvision\n",
        "!pip install \"accelerate>=0.20.1\"\n",
        "!pip install accelerate -U\n",
        "!pip install datasets\n",
        "!pip install jiwer\n"
      ],
      "metadata": {
        "id": "M4xe79qO4vme"
      },
      "execution_count": null,
      "outputs": []
    },
    {
      "cell_type": "markdown",
      "source": [
        "# Libraries\n",
        "# Mount drive"
      ],
      "metadata": {
        "id": "G4CUOXvTXmBO"
      }
    },
    {
      "cell_type": "code",
      "execution_count": 3,
      "metadata": {
        "colab": {
          "base_uri": "https://localhost:8080/"
        },
        "id": "D4Km8DIBXh3f",
        "outputId": "003d14e5-def7-4fa4-bb74-eb8536a98082"
      },
      "outputs": [
        {
          "output_type": "stream",
          "name": "stdout",
          "text": [
            "Drive already mounted at /content/drive; to attempt to forcibly remount, call drive.mount(\"/content/drive\", force_remount=True).\n"
          ]
        }
      ],
      "source": [
        "from google.colab import drive\n",
        "drive.mount('/content/drive')"
      ]
    },
    {
      "cell_type": "code",
      "source": [
        "import pandas as pd\n",
        "#from scipy.sparse import random\n",
        "from sklearn.model_selection import train_test_split\n",
        "import matplotlib.pyplot as plt\n",
        "import torch\n",
        "from torch.utils.data import Dataset\n",
        "from PIL import Image\n",
        "from transformers import TrOCRProcessor\n",
        "from transformers import AutoFeatureExtractor, AutoTokenizer\n",
        "from transformers import TrOCRProcessor, VisionEncoderDecoderModel\n",
        "from transformers import Seq2SeqTrainer, Seq2SeqTrainingArguments\n",
        "from transformers import Trainer"
      ],
      "metadata": {
        "id": "oP6umDhXqDwZ"
      },
      "execution_count": 4,
      "outputs": []
    },
    {
      "cell_type": "markdown",
      "source": [
        "# Data"
      ],
      "metadata": {
        "id": "IJikGCu6XscV"
      }
    },
    {
      "cell_type": "code",
      "source": [
        "dff = pd.read_csv(\"/content/drive/MyDrive/OCR_BLNK/OCR_DATA/unziped_data/clean_images.csv\",index_col=None)"
      ],
      "metadata": {
        "id": "_vHUmo-KYJne"
      },
      "execution_count": 5,
      "outputs": []
    },
    {
      "cell_type": "code",
      "source": [
        "# Rename the \"imagename\" column to \"file name\"\n",
        "dff.rename(columns={'ImageName': 'file_name'}, inplace=True)\n",
        "dff.rename(columns={'TextContent': \"text\"}, inplace=True)\n",
        "# reduce the data size due to limited RAM and time\n",
        "df=dff.sample(n=2000, random_state=42)"
      ],
      "metadata": {
        "id": "eKMDwPpp3EII"
      },
      "execution_count": 6,
      "outputs": []
    },
    {
      "cell_type": "code",
      "source": [
        "train_df, test_df = train_test_split(df, test_size=0.3 ,random_state=42)\n",
        "# we reset the indices to start from zero\n",
        "train_df.reset_index(drop=True, inplace=True)\n",
        "test_df.reset_index(drop=True, inplace=True)"
      ],
      "metadata": {
        "id": "IqCCynUfqfwX"
      },
      "execution_count": 7,
      "outputs": []
    },
    {
      "cell_type": "code",
      "source": [
        "# Convert the 'textcontent' column to string\n",
        "train_df['text'] = train_df['text'].astype(str)\n",
        "# Calculate the length of words in the 'textcontent' column\n",
        "word_lengths = train_df['text'].apply(lambda x: len(x.split()))\n",
        "\n",
        "# Plot a histogram\n",
        "plt.figure(figsize=(5, 5))\n",
        "plt.hist(word_lengths, bins=3, edgecolor='black')\n",
        "plt.title('Distribution of Word Lengths')\n",
        "plt.xlabel('Word Length')\n",
        "plt.ylabel('Frequency')\n",
        "plt.grid(True)\n",
        "plt.show()\n",
        "\n",
        "# data consentrated around  9 to 13 tokens"
      ],
      "metadata": {
        "colab": {
          "base_uri": "https://localhost:8080/",
          "height": 487
        },
        "id": "SK87jdwpw98e",
        "outputId": "17d6419a-02f2-41b6-a54a-7dec64b94b14"
      },
      "execution_count": 8,
      "outputs": [
        {
          "output_type": "display_data",
          "data": {
            "text/plain": [
              "<Figure size 500x500 with 1 Axes>"
            ],
            "image/png": "[encoded data removed]"
          },
          "metadata": {}
        }
      ]
    },
    {
      "cell_type": "markdown",
      "source": [
        "Pytorch data Class"
      ],
      "metadata": {
        "id": "AYEFf7mdy5R6"
      }
    },
    {
      "cell_type": "code",
      "source": [
        "# max target legth = 20 to buffer for subword level tokenizer used by Transformers\n",
        "class IAMDataset(Dataset):\n",
        "\n",
        "    def __init__(self, root_dir, df, processor, max_target_length=20):\n",
        "        self.root_dir = root_dir\n",
        "        self.df = df\n",
        "        self.processor = processor\n",
        "        self.max_target_length = max_target_length\n",
        "\n",
        "    def __len__(self):\n",
        "        return len(self.df)\n",
        "\n",
        "    def __getitem__(self, idx):\n",
        "        # get file name + text\n",
        "        file_name = self.df['file_name'][idx]\n",
        "        text = self.df['text'][idx]\n",
        "        # prepare image (i.e. resize + normalize)\n",
        "        image = Image.open(self.root_dir + file_name).convert(\"RGB\")\n",
        "        pixel_values = self.processor(image, return_tensors=\"pt\").pixel_values\n",
        "        # add labels (input_ids) by encoding the text\n",
        "        labels = self.processor.tokenizer(text, padding=\"max_length\",max_length=self.max_target_length).input_ids[:self.max_target_length]\n",
        "        # important: make sure that PAD tokens are ignored by the loss function\n",
        "        labels = [label if label != self.processor.tokenizer.pad_token_id else -100 for label in labels]\n",
        "\n",
        "        encoding = {\"pixel_values\": pixel_values.squeeze(), \"labels\": torch.tensor(labels)}\n",
        "        return encoding"
      ],
      "metadata": {
        "id": "2pmM70QZx1za"
      },
      "execution_count": 9,
      "outputs": []
    },
    {
      "cell_type": "markdown",
      "source": [
        "# Model"
      ],
      "metadata": {
        "id": "gVPD_R5j6Jyz"
      }
    },
    {
      "cell_type": "code",
      "source": [
        "# choosing feature extractor and tokenizer\n",
        "feature_extractor = AutoFeatureExtractor.from_pretrained(\"google/vit-base-patch16-384\")\n",
        "#decoder_tokenizer = AutoTokenizer.from_pretrained(\"aubmindlab/bert-base-arabert\")\n",
        "# using multilingual roberta fine tuned on arabic is better\n",
        "decoder_tokenizer = AutoTokenizer.from_pretrained('xlm-roberta-base')\n",
        "\n",
        "\n",
        "processor =TrOCRProcessor(feature_extractor=feature_extractor, tokenizer=decoder_tokenizer)"
      ],
      "metadata": {
        "colab": {
          "base_uri": "https://localhost:8080/"
        },
        "id": "XoAvt6Uk5mZ2",
        "outputId": "f46a7c7d-38af-48d2-814a-9f1622fe9950"
      },
      "execution_count": 10,
      "outputs": [
        {
          "output_type": "stream",
          "name": "stderr",
          "text": [
            "/usr/local/lib/python3.10/dist-packages/transformers/models/vit/feature_extraction_vit.py:28: FutureWarning: The class ViTFeatureExtractor is deprecated and will be removed in version 5 of Transformers. Please use ViTImageProcessor instead.\n",
            "  warnings.warn(\n",
            "/usr/local/lib/python3.10/dist-packages/transformers/models/trocr/processing_trocr.py:45: FutureWarning: The `feature_extractor` argument is deprecated and will be removed in v5, use `image_processor` instead.\n",
            "  warnings.warn(\n"
          ]
        }
      ]
    },
    {
      "cell_type": "code",
      "source": [
        "processor.save_pretrained('./processor')"
      ],
      "metadata": {
        "id": "GrwMlEBb21Jj"
      },
      "execution_count": 11,
      "outputs": []
    },
    {
      "cell_type": "code",
      "source": [
        "processor = TrOCRProcessor.from_pretrained(\"./processor\")\n",
        "datadir=\"/content/drive/MyDrive/OCR_BLNK/OCR_DATA/unziped_data/filtered_images/\"\n",
        "train_dataset = IAMDataset(root_dir=datadir ,df=train_df,processor=processor)\n",
        "eval_dataset = IAMDataset(root_dir= datadir ,df=test_df,processor=processor)"
      ],
      "metadata": {
        "id": "psYIuAEb5CKr"
      },
      "execution_count": 12,
      "outputs": []
    },
    {
      "cell_type": "code",
      "source": [
        "print(\"Number of training examples:\", len(train_dataset))\n",
        "print(\"Number of validation examples:\", len(eval_dataset))"
      ],
      "metadata": {
        "colab": {
          "base_uri": "https://localhost:8080/"
        },
        "id": "4uay3Urk-OBb",
        "outputId": "e1bcd352-4321-4e46-bc60-41981a998819"
      },
      "execution_count": 13,
      "outputs": [
        {
          "output_type": "stream",
          "name": "stdout",
          "text": [
            "Number of training examples: 1400\n",
            "Number of validation examples: 600\n"
          ]
        }
      ]
    },
    {
      "cell_type": "code",
      "source": [],
      "metadata": {
        "id": "i7kJ8pGaAFEC"
      },
      "execution_count": 13,
      "outputs": []
    },
    {
      "cell_type": "code",
      "source": [
        "encoding = train_dataset[5]\n",
        "for k,v in encoding.items():\n",
        "    print(k, v.shape)"
      ],
      "metadata": {
        "colab": {
          "base_uri": "https://localhost:8080/"
        },
        "id": "tKreCqSr-TwY",
        "outputId": "1b3f7e0c-dfcb-49c9-b57a-e9940a6ead4b"
      },
      "execution_count": 14,
      "outputs": [
        {
          "output_type": "stream",
          "name": "stdout",
          "text": [
            "pixel_values torch.Size([3, 384, 384])\n",
            "labels torch.Size([20])\n"
          ]
        }
      ]
    },
    {
      "cell_type": "code",
      "source": [
        "image = Image.open(train_dataset.root_dir + train_df['file_name'][5]).convert(\"RGB\")\n",
        "image"
      ],
      "metadata": {
        "colab": {
          "base_uri": "https://localhost:8080/",
          "height": 97
        },
        "id": "WUgJw6TA-2k0",
        "outputId": "03f185f8-94ee-46a8-d190-0f568d5181fe"
      },
      "execution_count": 15,
      "outputs": [
        {
          "output_type": "execute_result",
          "data": {
            "text/plain": [
              "<PIL.Image.Image image mode=RGB size=500x80>"
            ],
            "image/png": "[encoded data removed]"
          },
          "metadata": {},
          "execution_count": 15
        }
      ]
    },
    {
      "cell_type": "code",
      "source": [
        "labels = encoding['labels']\n",
        "labels[labels == -100] = processor.tokenizer.pad_token_id\n",
        "label_str = processor.decode(labels, skip_special_tokens=True)\n",
        "print(label_str)"
      ],
      "metadata": {
        "colab": {
          "base_uri": "https://localhost:8080/"
        },
        "id": "R1LsAuIeAUK1",
        "outputId": "d75339a3-523e-4b32-f96d-ba8fded4e98b"
      },
      "execution_count": 16,
      "outputs": [
        {
          "output_type": "stream",
          "name": "stdout",
          "text": [
            "355 شارع ديري متفرع من سبروتبورو في ١٧١٠ \n"
          ]
        }
      ]
    },
    {
      "cell_type": "code",
      "source": [
        "from transformers import VisionEncoderDecoderModel\n",
        "\n",
        "\n",
        "model = VisionEncoderDecoderModel.from_encoder_decoder_pretrained(\"google/vit-base-patch16-384\", 'xlm-roberta-base')\n",
        "# set decoder config to causal lm\n",
        "model.config.decoder.is_decoder = True\n",
        "model.config.decoder.add_cross_attention = True\n",
        "# set special tokens used for creating the decoder_input_ids from the labels\n",
        "model.config.decoder_start_token_id = processor.tokenizer.cls_token_id\n",
        "model.config.pad_token_id = processor.tokenizer.pad_token_id\n",
        "# make sure vocab size is set correctly\n",
        "model.config.vocab_size = model.config.decoder.vocab_size\n",
        "\n",
        "# set beam search parameters\n",
        "model.config.eos_token_id = processor.tokenizer.sep_token_id\n",
        "# make max_length = 20\n",
        "model.config.max_length = 20\n",
        "model.config.early_stopping = True\n",
        "model.config.no_repeat_ngram_size = 3\n",
        "model.config.length_penalty = 2.0\n",
        "model.config.num_beams = 4"
      ],
      "metadata": {
        "colab": {
          "base_uri": "https://localhost:8080/"
        },
        "id": "oSUPJRYqAhem",
        "outputId": "4b9f46c1-f898-4ceb-e986-2b81d9c183fe"
      },
      "execution_count": 17,
      "outputs": [
        {
          "output_type": "stream",
          "name": "stderr",
          "text": [
            "Some weights of ViTModel were not initialized from the model checkpoint at google/vit-base-patch16-384 and are newly initialized: ['vit.pooler.dense.weight', 'vit.pooler.dense.bias']\n",
            "You should probably TRAIN this model on a down-stream task to be able to use it for predictions and inference.\n",
            "Some weights of XLMRobertaForCausalLM were not initialized from the model checkpoint at xlm-roberta-base and are newly initialized: ['roberta.encoder.layer.0.crossattention.self.value.weight', 'roberta.encoder.layer.8.crossattention.output.dense.weight', 'roberta.encoder.layer.7.crossattention.self.key.bias', 'roberta.encoder.layer.1.crossattention.output.LayerNorm.bias', 'roberta.encoder.layer.11.crossattention.self.key.bias', 'roberta.encoder.layer.7.crossattention.self.key.weight', 'roberta.encoder.layer.7.crossattention.self.query.bias', 'roberta.encoder.layer.3.crossattention.self.key.bias', 'roberta.encoder.layer.6.crossattention.self.key.bias', 'roberta.encoder.layer.1.crossattention.self.value.bias', 'roberta.encoder.layer.10.crossattention.output.LayerNorm.weight', 'roberta.encoder.layer.5.crossattention.self.value.bias', 'roberta.encoder.layer.5.crossattention.self.query.weight', 'roberta.encoder.layer.6.crossattention.self.key.weight', 'roberta.encoder.layer.11.crossattention.output.LayerNorm.bias', 'roberta.encoder.layer.2.crossattention.self.key.bias', 'roberta.encoder.layer.1.crossattention.self.value.weight', 'roberta.encoder.layer.1.crossattention.self.query.bias', 'roberta.encoder.layer.2.crossattention.self.query.weight', 'roberta.encoder.layer.8.crossattention.self.value.weight', 'roberta.encoder.layer.11.crossattention.self.query.weight', 'roberta.encoder.layer.1.crossattention.output.dense.weight', 'roberta.encoder.layer.3.crossattention.output.LayerNorm.bias', 'roberta.encoder.layer.5.crossattention.output.dense.weight', 'roberta.encoder.layer.9.crossattention.self.query.bias', 'roberta.encoder.layer.11.crossattention.self.value.bias', 'roberta.encoder.layer.11.crossattention.output.dense.weight', 'roberta.encoder.layer.4.crossattention.self.query.bias', 'roberta.encoder.layer.10.crossattention.output.dense.bias', 'roberta.encoder.layer.2.crossattention.self.key.weight', 'roberta.encoder.layer.9.crossattention.self.value.weight', 'roberta.encoder.layer.4.crossattention.self.key.weight', 'roberta.encoder.layer.1.crossattention.output.LayerNorm.weight', 'roberta.encoder.layer.10.crossattention.output.LayerNorm.bias', 'roberta.encoder.layer.4.crossattention.self.value.bias', 'roberta.encoder.layer.4.crossattention.self.value.weight', 'roberta.encoder.layer.6.crossattention.output.LayerNorm.weight', 'roberta.encoder.layer.8.crossattention.self.value.bias', 'roberta.encoder.layer.5.crossattention.output.LayerNorm.weight', 'roberta.encoder.layer.7.crossattention.output.LayerNorm.bias', 'roberta.encoder.layer.8.crossattention.self.query.bias', 'roberta.encoder.layer.0.crossattention.self.key.weight', 'roberta.encoder.layer.1.crossattention.self.query.weight', 'roberta.encoder.layer.5.crossattention.self.query.bias', 'roberta.encoder.layer.9.crossattention.output.LayerNorm.bias', 'roberta.encoder.layer.10.crossattention.output.dense.weight', 'roberta.encoder.layer.0.crossattention.output.LayerNorm.weight', 'roberta.encoder.layer.0.crossattention.output.dense.weight', 'roberta.encoder.layer.3.crossattention.self.value.bias', 'roberta.encoder.layer.5.crossattention.self.key.weight', 'roberta.encoder.layer.2.crossattention.self.value.weight', 'roberta.encoder.layer.7.crossattention.output.dense.weight', 'roberta.encoder.layer.2.crossattention.self.value.bias', 'roberta.encoder.layer.8.crossattention.self.query.weight', 'roberta.encoder.layer.11.crossattention.output.LayerNorm.weight', 'roberta.encoder.layer.3.crossattention.output.dense.weight', 'roberta.encoder.layer.1.crossattention.self.key.bias', 'roberta.encoder.layer.0.crossattention.self.key.bias', 'roberta.encoder.layer.9.crossattention.output.LayerNorm.weight', 'roberta.encoder.layer.5.crossattention.output.dense.bias', 'roberta.encoder.layer.4.crossattention.self.key.bias', 'roberta.encoder.layer.6.crossattention.self.query.bias', 'roberta.encoder.layer.6.crossattention.output.LayerNorm.bias', 'roberta.encoder.layer.10.crossattention.self.value.weight', 'roberta.encoder.layer.0.crossattention.self.query.weight', 'roberta.encoder.layer.4.crossattention.output.LayerNorm.bias', 'roberta.encoder.layer.2.crossattention.output.LayerNorm.weight', 'roberta.encoder.layer.0.crossattention.self.value.bias', 'roberta.encoder.layer.1.crossattention.output.dense.bias', 'roberta.encoder.layer.9.crossattention.output.dense.weight', 'roberta.encoder.layer.3.crossattention.self.value.weight', 'roberta.encoder.layer.9.crossattention.output.dense.bias', 'roberta.encoder.layer.3.crossattention.self.query.weight', 'roberta.encoder.layer.10.crossattention.self.value.bias', 'roberta.encoder.layer.11.crossattention.self.key.weight', 'roberta.encoder.layer.9.crossattention.self.key.weight', 'roberta.encoder.layer.8.crossattention.self.key.bias', 'roberta.encoder.layer.6.crossattention.output.dense.bias', 'roberta.encoder.layer.2.crossattention.output.dense.weight', 'roberta.encoder.layer.11.crossattention.self.value.weight', 'roberta.encoder.layer.9.crossattention.self.query.weight', 'roberta.encoder.layer.0.crossattention.output.dense.bias', 'roberta.encoder.layer.6.crossattention.self.query.weight', 'roberta.encoder.layer.10.crossattention.self.query.weight', 'roberta.encoder.layer.0.crossattention.output.LayerNorm.bias', 'roberta.encoder.layer.5.crossattention.self.key.bias', 'roberta.encoder.layer.7.crossattention.output.LayerNorm.weight', 'roberta.encoder.layer.4.crossattention.output.dense.weight', 'roberta.encoder.layer.7.crossattention.output.dense.bias', 'roberta.encoder.layer.7.crossattention.self.query.weight', 'roberta.encoder.layer.8.crossattention.self.key.weight', 'roberta.encoder.layer.2.crossattention.self.query.bias', 'roberta.encoder.layer.3.crossattention.self.key.weight', 'roberta.encoder.layer.10.crossattention.self.key.bias', 'roberta.encoder.layer.2.crossattention.output.dense.bias', 'roberta.encoder.layer.11.crossattention.output.dense.bias', 'roberta.encoder.layer.4.crossattention.output.dense.bias', 'roberta.encoder.layer.5.crossattention.self.value.weight', 'roberta.encoder.layer.0.crossattention.self.query.bias', 'roberta.encoder.layer.9.crossattention.self.value.bias', 'roberta.encoder.layer.7.crossattention.self.value.weight', 'roberta.encoder.layer.9.crossattention.self.key.bias', 'roberta.encoder.layer.5.crossattention.output.LayerNorm.bias', 'roberta.encoder.layer.2.crossattention.output.LayerNorm.bias', 'roberta.encoder.layer.6.crossattention.self.value.weight', 'roberta.encoder.layer.3.crossattention.self.query.bias', 'roberta.encoder.layer.4.crossattention.self.query.weight', 'roberta.encoder.layer.3.crossattention.output.dense.bias', 'roberta.encoder.layer.3.crossattention.output.LayerNorm.weight', 'roberta.encoder.layer.11.crossattention.self.query.bias', 'roberta.encoder.layer.4.crossattention.output.LayerNorm.weight', 'roberta.encoder.layer.6.crossattention.output.dense.weight', 'roberta.encoder.layer.1.crossattention.self.key.weight', 'roberta.encoder.layer.7.crossattention.self.value.bias', 'roberta.encoder.layer.10.crossattention.self.query.bias', 'roberta.encoder.layer.8.crossattention.output.dense.bias', 'roberta.encoder.layer.8.crossattention.output.LayerNorm.bias', 'roberta.encoder.layer.10.crossattention.self.key.weight', 'roberta.encoder.layer.6.crossattention.self.value.bias', 'roberta.encoder.layer.8.crossattention.output.LayerNorm.weight']\n",
            "You should probably TRAIN this model on a down-stream task to be able to use it for predictions and inference.\n"
          ]
        }
      ]
    },
    {
      "cell_type": "code",
      "source": [],
      "metadata": {
        "id": "-_bIEYsbC-8Q"
      },
      "execution_count": 17,
      "outputs": []
    },
    {
      "cell_type": "code",
      "source": [
        "\n",
        "# Define the training arguments for the Seq2SeqTrainer\n",
        "training_args = Seq2SeqTrainingArguments(\n",
        "    predict_with_generate=True,  # Enable generation mode during evaluation\n",
        "    evaluation_strategy=\"epoch\",  # Strategy for when to evaluate the model during training\n",
        "    per_device_train_batch_size=3,  # Batch size for training data (per device)\n",
        "    per_device_eval_batch_size=3,   # Batch size for evaluation data (per device)\n",
        "    fp16= False,  # Enable mixed-precision training for faster training on supported GPUs\n",
        "    output_dir=\"/content/drive/MyDrive/OCR_BLNK/OCR_DATA/unziped_data\",  # Directory to save checkpoints and logs\n",
        "    logging_steps=2,  # Log metrics every specified number of training steps\n",
        "    save_steps=20,  # Save model checkpoint every specified number of steps\n",
        "    eval_steps=200,   # Evaluate model every specified number of steps during training\n",
        "    num_train_epochs=3,  # Total number of training epochs\n",
        "    )\n"
      ],
      "metadata": {
        "id": "3vZzfO5nCS1o"
      },
      "execution_count": 18,
      "outputs": []
    },
    {
      "cell_type": "code",
      "source": [],
      "metadata": {
        "id": "rbrRJpnzNOG-"
      },
      "execution_count": 18,
      "outputs": []
    },
    {
      "cell_type": "code",
      "source": [
        "from datasets import load_metric\n",
        "cer_metric = load_metric(\"cer\")"
      ],
      "metadata": {
        "colab": {
          "base_uri": "https://localhost:8080/"
        },
        "id": "rFeSjR1dG_tp",
        "outputId": "2ef8a580-f6d7-4875-89ce-327a83bfc567"
      },
      "execution_count": 19,
      "outputs": [
        {
          "output_type": "stream",
          "name": "stderr",
          "text": [
            "<ipython-input-19-6424484073b5>:2: FutureWarning: load_metric is deprecated and will be removed in the next major version of datasets. Use 'evaluate.load' instead, from the new library 🤗 Evaluate: https://huggingface.co/docs/evaluate\n",
            "  cer_metric = load_metric(\"cer\")\n"
          ]
        }
      ]
    },
    {
      "cell_type": "code",
      "source": [
        "def compute_metrics(pred):\n",
        "    labels_ids = pred.label_ids\n",
        "    pred_ids = pred.predictions\n",
        "\n",
        "    pred_str = processor.batch_decode(pred_ids, skip_special_tokens=True)\n",
        "    labels_ids[labels_ids == -100] = processor.tokenizer.pad_token_id\n",
        "    label_str = processor.batch_decode(labels_ids, skip_special_tokens=True)\n",
        "\n",
        "    cer = cer_metric.compute(predictions=pred_str, references=label_str)\n",
        "\n",
        "    return {\"cer\": cer}"
      ],
      "metadata": {
        "id": "NPFQr228G_3P"
      },
      "execution_count": 20,
      "outputs": []
    },
    {
      "cell_type": "code",
      "source": [
        "\n",
        "\n",
        "\n",
        "# Load the checkpointed model\n",
        "model = VisionEncoderDecoderModel.from_pretrained('/content/drive/MyDrive/OCR_BLNK/OCR_DATA/unziped_data/checkpoint-520')\n",
        "\n",
        "\n",
        "\n",
        "from transformers import default_data_collator\n",
        "\n",
        "# instantiate trainer\n",
        "trainer = Seq2SeqTrainer(\n",
        "    model=model,\n",
        "    tokenizer=processor.feature_extractor,\n",
        "    #tokenizer=processor.image_processor,\n",
        "    args=training_args,\n",
        "    compute_metrics=compute_metrics,\n",
        "    train_dataset=train_dataset,\n",
        "    eval_dataset=eval_dataset,\n",
        "    data_collator=default_data_collator\n",
        ")\n",
        "trainer.train(resume_from_checkpoint=True)"
      ],
      "metadata": {
        "colab": {
          "base_uri": "https://localhost:8080/",
          "height": 205
        },
        "id": "PuSqpoMqHmw9",
        "outputId": "32765ec4-569c-4b76-9543-0f6f70edbdc3"
      },
      "execution_count": null,
      "outputs": [
        {
          "metadata": {
            "tags": null
          },
          "name": "stderr",
          "output_type": "stream",
          "text": [
            "/usr/local/lib/python3.10/dist-packages/transformers/models/trocr/processing_trocr.py:135: FutureWarning: `feature_extractor` is deprecated and will be removed in v5. Use `image_processor` instead.\n",
            "  warnings.warn(\n"
          ]
        },
        {
          "data": {
            "text/html": [
              "\n",
              "    <div>\n",
              "      \n",
              "      <progress value='602' max='1401' style='width:300px; height:20px; vertical-align: middle;'></progress>\n",
              "      [ 602/1401 50:55 < 8:28:41, 0.03 it/s, Epoch 1.29/3]\n",
              "    </div>\n",
              "    <table border=\"1\" class=\"dataframe\">\n",
              "  <thead>\n",
              " <tr style=\"text-align: left;\">\n",
              "      <th>Epoch</th>\n",
              "      <th>Training Loss</th>\n",
              "      <th>Validation Loss</th>\n",
              "    </tr>\n",
              "  </thead>\n",
              "  <tbody>\n",
              "  </tbody>\n",
              "</table><p>"
            ],
            "text/plain": [
              "<IPython.core.display.HTML object>"
            ]
          },
          "metadata": {},
          "output_type": "display_data"
        },
        {
          "metadata": {
            "tags": null
          },
          "name": "stderr",
          "output_type": "stream",
          "text": [
            "We strongly recommend passing in an `attention_mask` since your input_ids may be padded. See https://huggingface.co/docs/transformers/troubleshooting#incorrect-output-when-padding-tokens-arent-masked.\n"
          ]
        },
        {
          "output_type": "display_data",
          "data": {
            "text/plain": [
              "<IPython.core.display.HTML object>"
            ],
            "text/html": [
              "\n",
              "    <div>\n",
              "      \n",
              "      <progress value='627' max='1401' style='width:300px; height:20px; vertical-align: middle;'></progress>\n",
              "      [ 627/1401 1:05:29 < 8:02:45, 0.03 it/s, Epoch 1.34/3]\n",
              "    </div>\n",
              "    <table border=\"1\" class=\"dataframe\">\n",
              "  <thead>\n",
              " <tr style=\"text-align: left;\">\n",
              "      <th>Epoch</th>\n",
              "      <th>Training Loss</th>\n",
              "      <th>Validation Loss</th>\n",
              "    </tr>\n",
              "  </thead>\n",
              "  <tbody>\n",
              "  </tbody>\n",
              "</table><p>"
            ]
          },
          "metadata": {}
        }
      ]
    },
    {
      "cell_type": "code",
      "source": [
        "trainer.save_model('/content/drive/MyDrive/OCR_BLNK/OCR_DATA/unziped_data/trainer')"
      ],
      "metadata": {
        "id": "Pw7gIFdKHrC6"
      },
      "execution_count": null,
      "outputs": []
    },
    {
      "cell_type": "code",
      "source": [
        "model = VisionEncoderDecoderModel.from_pretrained('/content/drive/MyDrive/OCR_BLNK/OCR_DATA/unziped_data/trainer')"
      ],
      "metadata": {
        "id": "4kxemgy_Ondo"
      },
      "execution_count": null,
      "outputs": []
    },
    {
      "cell_type": "code",
      "source": [
        "image = Image.open(\"/content/drive/MyDrive/OCR_BLNK/OCR_DATA/samples_images/0.jpg\").convert(\"RGB\")\n",
        "\n",
        "pixel_values = processor.feature_extractor(image, return_tensors=\"pt\").pixel_values\n",
        "print(pixel_values.shape)\n",
        "\n",
        "generated_ids = model.generate(pixel_values)\n",
        "generated_text = processor.batch_decode(generated_ids, skip_special_tokens=True)[0]\n",
        "print(generated_text)"
      ],
      "metadata": {
        "id": "qdcTjF2COusi"
      },
      "execution_count": null,
      "outputs": []
    },
    {
      "cell_type": "code",
      "source": [
        "model.save_pretrained('/content/drive/MyDrive/OCR_BLNK/OCR_DATA/unziped_data/trainer')"
      ],
      "metadata": {
        "id": "LIVI_Mx0D_yP"
      },
      "execution_count": null,
      "outputs": []
    },
    {
      "cell_type": "markdown",
      "source": [
        "# Convert to ONNX"
      ],
      "metadata": {
        "id": "PkdUg_SQ_MPT"
      }
    },
    {
      "cell_type": "code",
      "source": [
        "import torch\n",
        "from transformers import VisionEncoderDecoderModel\n",
        "from transformers import AutoFeatureExtractor, AutoProcessor\n",
        "\n",
        "# Load the checkpointed model\n",
        "model = VisionEncoderDecoderModel.from_pretrained('/content/drive/MyDrive/OCR_BLNK/OCR_DATA/unziped_data/trainer')\n",
        "\n",
        "\n",
        "# Load the feature extractor and processor\n",
        "feature_extractor = = AutoFeatureExtractor.from_pretrained(\"google/vit-base-patch16-384\")\n",
        "decoder_tokenizer = AutoTokenizer.from_pretrained('xlm-roberta-base')\n",
        "processor =TrOCRProcessor(feature_extractor=feature_extractor, tokenizer=decoder_tokenizer)\n",
        "# Create dummy input\n",
        "batch_size = 3  # Replace with your batch size\n",
        "channels = 3    # Replace with the number of image channels (e.g., 3 for RGB)\n",
        "height = 384    # Replace with your image height\n",
        "width = 384     # Replace with your image width\n",
        "max_seq_length = 20  # Replace with your maximum sequence length\n",
        "\n",
        "dummy_image_input = torch.randn(batch_size, channels, height, width)\n",
        "dummy_text_input = torch.randint(0, processor.tokenizer.vocab_size, (batch_size, max_seq_length))\n",
        "\n",
        "# Run the model's forward pass (without training)\n",
        "with torch.no_grad():\n",
        "    outputs = model(pixel_values=dummy_image_input, input_ids=dummy_text_input)\n",
        "\n",
        "# Export the core model to ONNX\n",
        "onnx_path = \"path_to_save/model.onnx\"  # Replace with your desired path\n",
        "torch.onnx.export(\n",
        "    model,\n",
        "    (dummy_image_input, dummy_text_input),\n",
        "    onnx_path,\n",
        "    verbose=True,\n",
        "    input_names=[\"pixel_values\", \"input_ids\"],\n",
        "    output_names=[\"logits\"],\n",
        ")\n",
        "\n",
        "print(\"Model exported to ONNX:\", onnx_path)\n"
      ],
      "metadata": {
        "id": "pZdd_auOa5Il"
      },
      "execution_count": null,
      "outputs": []
    },
    {
      "cell_type": "markdown",
      "source": [
        "# Convert to TRT"
      ],
      "metadata": {
        "id": "v6PZiP8jMER5"
      }
    },
    {
      "cell_type": "code",
      "source": [
        "import tensorrt as trt\n",
        "\n",
        "# Initialize TensorRT\n",
        "TRT_LOGGER = trt.Logger(trt.Logger.INFO)\n",
        "trt_runtime = trt.Runtime(TRT_LOGGER)\n",
        "\n",
        "# Load the ONNX model\n",
        "onnx_path = 'model.onnx'\n",
        "onnx_model = onnx.load(onnx_path)\n",
        "\n",
        "# Create a TensorRT builder and network\n",
        "builder = trt.Builder(TRT_LOGGER)\n",
        "network = builder.create_network()\n",
        "\n",
        "# Parse the ONNX model into the TensorRT network\n",
        "parser = trt.OnnxParser(network, TRT_LOGGER)\n",
        "success = parser.parse(onnx_model.SerializeToString())\n",
        "\n",
        "# Build an optimized TensorRT engine\n",
        "engine = builder.build_cuda_engine(network)\n",
        "\n",
        "# Save the TensorRT engine\n",
        "trt_path = 'model_trt.engine'\n",
        "with open(trt_path, 'wb') as f:\n",
        "    f.write(engine.serialize())\n"
      ],
      "metadata": {
        "id": "QqHD_jqoMHZa"
      },
      "execution_count": null,
      "outputs": []
    }
  ]
}